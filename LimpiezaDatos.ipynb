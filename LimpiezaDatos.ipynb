{
 "cells": [
  {
   "cell_type": "code",
   "execution_count": 529,
   "id": "58feba90",
   "metadata": {},
   "outputs": [],
   "source": [
    "import pandas as pd\n",
    "from fuzzywuzzy import process\n",
    "import datetime\n",
    "pd.set_option('display.max_rows', None)"
   ]
  },
  {
   "cell_type": "code",
   "execution_count": 530,
   "id": "d287047f",
   "metadata": {},
   "outputs": [],
   "source": [
    "df = pd.read_csv(\"solicitudes_credito.csv\", sep=\";\", encoding=\"utf-8\")"
   ]
  },
  {
   "cell_type": "code",
   "execution_count": 531,
   "id": "8c68ce83",
   "metadata": {},
   "outputs": [
    {
     "data": {
      "text/html": [
       "<div>\n",
       "<style scoped>\n",
       "    .dataframe tbody tr th:only-of-type {\n",
       "        vertical-align: middle;\n",
       "    }\n",
       "\n",
       "    .dataframe tbody tr th {\n",
       "        vertical-align: top;\n",
       "    }\n",
       "\n",
       "    .dataframe thead th {\n",
       "        text-align: right;\n",
       "    }\n",
       "</style>\n",
       "<table border=\"1\" class=\"dataframe\">\n",
       "  <thead>\n",
       "    <tr style=\"text-align: right;\">\n",
       "      <th></th>\n",
       "      <th>Unnamed: 0</th>\n",
       "      <th>sexo</th>\n",
       "      <th>tipo_de_emprendimiento</th>\n",
       "      <th>idea_negocio</th>\n",
       "      <th>barrio</th>\n",
       "      <th>estrato</th>\n",
       "      <th>comuna_ciudadano</th>\n",
       "      <th>fecha_de_beneficio</th>\n",
       "      <th>monto_del_credito</th>\n",
       "      <th>línea_credito</th>\n",
       "    </tr>\n",
       "  </thead>\n",
       "  <tbody>\n",
       "    <tr>\n",
       "      <th>0</th>\n",
       "      <td>0</td>\n",
       "      <td>masculino</td>\n",
       "      <td>COMERCIO</td>\n",
       "      <td>charcuteria</td>\n",
       "      <td>manrique central no. 2</td>\n",
       "      <td>1</td>\n",
       "      <td>3.0</td>\n",
       "      <td>28/12/2017</td>\n",
       "      <td>7000000</td>\n",
       "      <td>microempresarial</td>\n",
       "    </tr>\n",
       "    <tr>\n",
       "      <th>1</th>\n",
       "      <td>1</td>\n",
       "      <td>masculino</td>\n",
       "      <td>comercio</td>\n",
       "      <td>distribuidora de</td>\n",
       "      <td>santa lucia</td>\n",
       "      <td>2</td>\n",
       "      <td>12.0</td>\n",
       "      <td>16/03/2018</td>\n",
       "      <td>$ 7,000,000.00</td>\n",
       "      <td>microempresarial</td>\n",
       "    </tr>\n",
       "    <tr>\n",
       "      <th>2</th>\n",
       "      <td>2</td>\n",
       "      <td>masculino</td>\n",
       "      <td>comercio</td>\n",
       "      <td>tienda</td>\n",
       "      <td>belen</td>\n",
       "      <td>3</td>\n",
       "      <td>16.0</td>\n",
       "      <td>2018/02/14</td>\n",
       "      <td>7800000</td>\n",
       "      <td>microempresarial</td>\n",
       "    </tr>\n",
       "    <tr>\n",
       "      <th>3</th>\n",
       "      <td>3</td>\n",
       "      <td>masculino</td>\n",
       "      <td>servicio</td>\n",
       "      <td>organización y</td>\n",
       "      <td>robledo</td>\n",
       "      <td>2</td>\n",
       "      <td>7.0</td>\n",
       "      <td>8/09/2016</td>\n",
       "      <td>1500000</td>\n",
       "      <td>microempresarial</td>\n",
       "    </tr>\n",
       "    <tr>\n",
       "      <th>4</th>\n",
       "      <td>4</td>\n",
       "      <td>masculino</td>\n",
       "      <td>servicio</td>\n",
       "      <td>COMIDAS RAPIDAS</td>\n",
       "      <td>20 de julio</td>\n",
       "      <td>2</td>\n",
       "      <td>13.0</td>\n",
       "      <td>20/12/2016</td>\n",
       "      <td>3000000</td>\n",
       "      <td>microempresarial</td>\n",
       "    </tr>\n",
       "  </tbody>\n",
       "</table>\n",
       "</div>"
      ],
      "text/plain": [
       "   Unnamed: 0       sexo tipo_de_emprendimiento       idea_negocio  \\\n",
       "0           0  masculino               COMERCIO        charcuteria   \n",
       "1           1  masculino               comercio  distribuidora de    \n",
       "2           2  masculino               comercio             tienda   \n",
       "3           3  masculino               servicio    organización y    \n",
       "4           4  masculino               servicio    COMIDAS RAPIDAS   \n",
       "\n",
       "                   barrio  estrato  comuna_ciudadano fecha_de_beneficio  \\\n",
       "0  manrique central no. 2        1               3.0         28/12/2017   \n",
       "1             santa lucia        2              12.0         16/03/2018   \n",
       "2                   belen        3              16.0         2018/02/14   \n",
       "3                 robledo        2               7.0          8/09/2016   \n",
       "4             20 de julio        2              13.0         20/12/2016   \n",
       "\n",
       "  monto_del_credito     línea_credito  \n",
       "0           7000000  microempresarial  \n",
       "1    $ 7,000,000.00  microempresarial  \n",
       "2           7800000  microempresarial  \n",
       "3           1500000  microempresarial  \n",
       "4           3000000  microempresarial  "
      ]
     },
     "execution_count": 531,
     "metadata": {},
     "output_type": "execute_result"
    }
   ],
   "source": [
    "df.head()"
   ]
  },
  {
   "cell_type": "code",
   "execution_count": 532,
   "id": "6b02d8d5",
   "metadata": {},
   "outputs": [
    {
     "data": {
      "text/plain": [
       "(10920, 10)"
      ]
     },
     "execution_count": 532,
     "metadata": {},
     "output_type": "execute_result"
    }
   ],
   "source": [
    "df.shape"
   ]
  },
  {
   "cell_type": "code",
   "execution_count": 533,
   "id": "4eb76ef2",
   "metadata": {},
   "outputs": [
    {
     "data": {
      "text/plain": [
       "(10716, 10)"
      ]
     },
     "execution_count": 533,
     "metadata": {},
     "output_type": "execute_result"
    }
   ],
   "source": [
    "df_copia = df.drop_duplicates()\n",
    "df_copia = df_copia.dropna()\n",
    "df_copia = df_copia.applymap(lambda x: x.lower() if isinstance(x, str) else x)\n",
    "df_copia.shape"
   ]
  },
  {
   "cell_type": "code",
   "execution_count": 534,
   "id": "537fc0f7",
   "metadata": {},
   "outputs": [
    {
     "data": {
      "text/plain": [
       "2"
      ]
     },
     "execution_count": 534,
     "metadata": {},
     "output_type": "execute_result"
    }
   ],
   "source": [
    "df_copia['sexo'] = df_copia['sexo'].str.lower().str.strip()\n",
    "valores_unicosex = df_copia['sexo'].unique()\n",
    "valores_unicosex.sort()\n",
    "len(valores_unicosex)"
   ]
  },
  {
   "cell_type": "code",
   "execution_count": 535,
   "id": "0f3bfb72",
   "metadata": {},
   "outputs": [
    {
     "data": {
      "text/plain": [
       "10206"
      ]
     },
     "execution_count": 535,
     "metadata": {},
     "output_type": "execute_result"
    }
   ],
   "source": [
    "6617 + 3589"
   ]
  },
  {
   "cell_type": "code",
   "execution_count": 536,
   "id": "9c2229c9",
   "metadata": {},
   "outputs": [],
   "source": [
    "df_copia['idea_negocio'] = df_copia['idea_negocio'].str.rstrip() \n",
    "df_copia['idea_negocio'] = df_copia['idea_negocio'].str.replace('-', '') \n",
    "df_copia['idea_negocio'] = df_copia['idea_negocio'].str.replace('_', ' ') \n",
    "df_copia['idea_negocio'] = df_copia['idea_negocio'].str.replace('  ', ' ') \n",
    "df_copia['idea_negocio'] = df_copia['idea_negocio'].str.replace(' ', '')  \n",
    "df_copia['idea_negocio'] = df_copia['idea_negocio'].str.lower() "
   ]
  },
  {
   "cell_type": "code",
   "execution_count": 537,
   "id": "17f5f0ce",
   "metadata": {},
   "outputs": [
    {
     "data": {
      "text/plain": [
       "75"
      ]
     },
     "execution_count": 537,
     "metadata": {},
     "output_type": "execute_result"
    }
   ],
   "source": [
    "valores_unicosin = df_copia['idea_negocio'].unique()\n",
    "valores_unicosin.sort()\n",
    "len(valores_unicosin)"
   ]
  },
  {
   "cell_type": "code",
   "execution_count": 538,
   "id": "022568f7",
   "metadata": {},
   "outputs": [
    {
     "data": {
      "text/plain": [
       "4"
      ]
     },
     "execution_count": 538,
     "metadata": {},
     "output_type": "execute_result"
    }
   ],
   "source": [
    "df_copia['tipo_de_emprendimiento'] = df_copia['tipo_de_emprendimiento'].str.lower().str.strip()\n",
    "valores_unicosemp = df_copia['tipo_de_emprendimiento'].unique()\n",
    "valores_unicosemp.sort()\n",
    "len(valores_unicosemp)"
   ]
  },
  {
   "cell_type": "code",
   "execution_count": 539,
   "id": "c87b792f",
   "metadata": {},
   "outputs": [],
   "source": [
    "debe_dar = 225"
   ]
  },
  {
   "cell_type": "code",
   "execution_count": 540,
   "id": "602263e8",
   "metadata": {},
   "outputs": [
    {
     "name": "stdout",
     "output_type": "stream",
     "text": [
      "223\n"
     ]
    },
    {
     "data": {
      "text/plain": [
       "array(['13 de noviembre', '20 de julio', 'aguas frias',\n",
       "       'alejandro echavarria', 'alfonso lopez', 'altamira', 'altavista',\n",
       "       'andalucia', 'antonio nari¿o', 'antonio nariño', 'aranjuez',\n",
       "       'aures no. 2', 'aures no.1', 'barrio caicedo', 'barrio colombia',\n",
       "       'barrio colon', 'barrio cristobal', 'barrio de jesus',\n",
       "       'barro blanco', 'belalcazar', 'belen', 'belencito',\n",
       "       'bello horizonte', 'bel¿n', 'betania', 'blanquizal',\n",
       "       'bombona no. 1', 'bombona no. 2', 'bosques de san pablo', 'boston',\n",
       "       'boyaca', 'brasilia', 'buenos aires', 'cabecera san antonio',\n",
       "       'cabecera san cristobal', 'calasanz', 'calasanz parte alta',\n",
       "       'campo alegre', 'campo amor', 'campo valdes no. 1',\n",
       "       'campo valdes no. 2', 'caribe', 'carlos e. restrepo', 'carpinelo',\n",
       "       'castilla', 'cataluna', 'centro admtivo', 'cordoba', 'cristo rey',\n",
       "       'doce de octubre no.1', 'doce de octubre no.2', 'eduardo santos',\n",
       "       'el astillero', 'el chagualo', 'el compromiso', 'el corazon',\n",
       "       'el diamante', 'el estadio', 'el llano', 'el pesebre', 'el pinal',\n",
       "       'el poblado', 'el progreso no.2', 'el raizal', 'el rincon',\n",
       "       'el rodeo', 'el salado', 'el salvador', 'el socorro', 'el triunfo',\n",
       "       'el vergel', 'enciso', 'fatima', 'florencia', 'florida nueva',\n",
       "       'francisco antonio zea', 'fuente clara', 'gerona', 'girardot',\n",
       "       'granada', 'granizal', 'guayabal', 'hector abad gomez',\n",
       "       'jardin botanico', 'jesus nazareno', 'juan pablo ii',\n",
       "       'juan xxiii la quiebra', 'kennedy', 'la aguacatala', 'la aldea',\n",
       "       'la america', 'la avanzada', 'la candelaria', 'la colina',\n",
       "       'la cruz', 'la cuchilla', 'la esperanza', 'la esperanza no. 2',\n",
       "       'la floresta', 'la florida', 'la francia', 'la frontera',\n",
       "       'la hondonada', 'la isla', 'la ladera', 'la libertad', 'la loma',\n",
       "       'la loma oriental', 'la mansion', 'la milagrosa', 'la oculta',\n",
       "       'la palma', 'la pradera', 'la salle', 'la sierra',\n",
       "       'la volcana y guayabal', 'las brisas', 'las esmeraldas',\n",
       "       'las granjas', 'las independencias', 'las palmas', 'las violetas',\n",
       "       'laureles', 'llanaditas', 'loma de los bernal', 'lopez de mesa',\n",
       "       'loreto', 'los alcazares', 'los angeles', 'los cerros el vergel',\n",
       "       'los mangos', 'manila', 'manrique central no. 1',\n",
       "       'manrique central no. 2', 'manrique oriental', 'maria cano',\n",
       "       'metropolitano', 'mirador del doce', 'miraflores', 'miranda',\n",
       "       'miravalle', 'monteclaro', 'moravia', 'moscu no. 1', 'moscu no. 2',\n",
       "       'naranjal', 'nuevos conquistadores', 'ocho de marzo',\n",
       "       'olaya herrera', 'oleoducto', 'oriente', 'pablo vi', 'pajarito',\n",
       "       'palenque', 'palermo', 'palmitas', 'parque norte', 'pedregal',\n",
       "       'pedregal alto', 'picachito', 'picacho', 'playon de los',\n",
       "       'popular', 'prado', 'progreso', 'robledo', 'rosales',\n",
       "       'san antonio', 'san benito', 'san bernardo', 'san diego',\n",
       "       'san german', 'san isidro', 'san javier no.1', 'san javier no.2',\n",
       "       'san joaquin', 'san jose de la cima no.', 'san josé de la montaña',\n",
       "       'san martin de porres', 'san pablo', 'san pedro', 'santa cruz',\n",
       "       'santa elena central', 'santa fe', 'santa ines', 'santa lucia',\n",
       "       'santa margarita', 'santa maria de los', 'santa monica',\n",
       "       'santa rosa de lima', 'santa teresita', 'santander',\n",
       "       'santo domingo savio', 'sevilla', 'sin barrio',\n",
       "       'suburbano altavista', 'suburbano barro', 'suburbano santa elena',\n",
       "       'sucre', 'tejelo', 'toscana', 'travesias', 'tricentenario',\n",
       "       'trinidad', 'universidad de', 'veinte de julio', 'versalles no. 1',\n",
       "       'versalles no. 2', 'villa del socorro', 'villa flora',\n",
       "       'villa guadalupe', 'villa hermosa', 'villa liliam', 'villa niza',\n",
       "       'villa nueva', 'villa turbay', 'villatina', 'vrda. palmitas',\n",
       "       'vrda. san antonio', 'vrda. san cristobal', 'vrda. santa elena',\n",
       "       'yarumalito', 'zona expansion san'], dtype=object)"
      ]
     },
     "execution_count": 540,
     "metadata": {},
     "output_type": "execute_result"
    }
   ],
   "source": [
    "df_copia['barrio'] = df_copia['barrio'].str.rstrip()  # Eliminar espacios en blanco al principio y al final\n",
    "df_copia['barrio'] = df_copia['barrio'].str.replace(r'[-_]', ' ', regex=True)  # Reemplazar guiones y guiones bajos con espacios\n",
    "df_copia['barrio'] = df_copia['barrio'].str.replace('  ', ' ', regex=True)\n",
    "df_copia['barrio'] = df_copia['barrio'].str.replace('santo domingo savio ', 'santo domingo savio', regex=True)\n",
    "df_copia['barrio'] = df_copia['barrio'].str.replace('cabecera san antonio ', 'cabecera san antonio', regex=True)\n",
    "df_copia['barrio'] = df_copia['barrio'].str.replace('playon de los ', 'playon de los', regex=True)\n",
    "df_copia['barrio'] = df_copia['barrio'].str.rstrip() \n",
    "print(len(df_copia['barrio'].unique()))  # Debería imprimir 225\n",
    "valores_unicosbarr = df_copia['barrio'].unique()\n",
    "valores_unicosbarr.sort() \n",
    "valores_unicosbarr"
   ]
  },
  {
   "cell_type": "code",
   "execution_count": 541,
   "id": "1ad61514",
   "metadata": {},
   "outputs": [
    {
     "name": "stdout",
     "output_type": "stream",
     "text": [
      "4\n"
     ]
    },
    {
     "data": {
      "text/plain": [
       "array([0, 1, 2, 3], dtype=int64)"
      ]
     },
     "execution_count": 541,
     "metadata": {},
     "output_type": "execute_result"
    }
   ],
   "source": [
    "print(len(df_copia['estrato'].unique()))\n",
    "valores_unicosest = df_copia['estrato'].unique()\n",
    "valores_unicosest.sort()\n",
    "valores_unicosest"
   ]
  },
  {
   "cell_type": "code",
   "execution_count": 542,
   "id": "16538688",
   "metadata": {},
   "outputs": [
    {
     "name": "stdout",
     "output_type": "stream",
     "text": [
      "21\n"
     ]
    },
    {
     "data": {
      "text/plain": [
       "<IntegerArray>\n",
       "[3, 12, 16, 7, 13, 70, 4, 9, 6, 1, 2, 8, 80, 5, 10, 15, 60, 90, 50, 14, 11]\n",
       "Length: 21, dtype: Int64"
      ]
     },
     "execution_count": 542,
     "metadata": {},
     "output_type": "execute_result"
    }
   ],
   "source": [
    "print(len(df_copia['comuna_ciudadano'].unique())) \n",
    "df_copia['comuna_ciudadano'] = df_copia['comuna_ciudadano'].astype('Int64')\n",
    "valores_unicom = df_copia['comuna_ciudadano'].unique()\n",
    "valores_unicom"
   ]
  },
  {
   "cell_type": "code",
   "execution_count": 543,
   "id": "d7cc09cb",
   "metadata": {},
   "outputs": [
    {
     "name": "stdout",
     "output_type": "stream",
     "text": [
      "795\n"
     ]
    }
   ],
   "source": [
    "def clean_date(date_str):\n",
    "    # List of possible date formats\n",
    "    date_formats = [\n",
    "        \"%Y-%m-%d\",  # Year-Month-Day\n",
    "        \"%d-%m-%Y\",  # Day-Month-Year\n",
    "        \"%m-%d-%Y\",  # Month-Day-Year\n",
    "        \"%Y/%m/%d\",  # Year/Month/Day\n",
    "        \"%d/%m/%Y\",  # Day/Month/Year\n",
    "        \"%m/%d/%Y\",  # Month/Day/Year\n",
    "    ]\n",
    "\n",
    "    cleaned_date = None\n",
    "    for fmt in date_formats:\n",
    "        try:\n",
    "            cleaned_date = datetime.datetime.strptime(date_str, fmt).date()\n",
    "            break  # Stop loop if a valid date is found\n",
    "        except ValueError:\n",
    "            continue  # Continue to next format if parsing fails\n",
    "\n",
    "    return cleaned_date\n",
    "\n",
    "# Aplica la función clean_date a la columna 'fecha_de_beneficio' del DataFrame\n",
    "df_copia['fecha_de_beneficio'] = df_copia['fecha_de_beneficio'].apply(clean_date)\n",
    "print(len(df_copia['fecha_de_beneficio'].unique())) "
   ]
  },
  {
   "cell_type": "code",
   "execution_count": 544,
   "id": "36086863",
   "metadata": {},
   "outputs": [
    {
     "data": {
      "text/plain": [
       "795"
      ]
     },
     "execution_count": 544,
     "metadata": {},
     "output_type": "execute_result"
    }
   ],
   "source": [
    "debe_ser_f = 795 \n",
    "debe_ser_f"
   ]
  },
  {
   "cell_type": "code",
   "execution_count": 545,
   "id": "a68b31a5",
   "metadata": {},
   "outputs": [
    {
     "name": "stderr",
     "output_type": "stream",
     "text": [
      "C:\\Users\\javie\\AppData\\Local\\Temp\\ipykernel_10036\\3974151914.py:3: FutureWarning: The default value of regex will change from True to False in a future version. In addition, single character regular expressions will *not* be treated as literal strings when regex=True.\n",
      "  column = column.str.replace('$', '').str.replace(',', '')\n"
     ]
    },
    {
     "data": {
      "text/plain": [
       "277"
      ]
     },
     "execution_count": 545,
     "metadata": {},
     "output_type": "execute_result"
    }
   ],
   "source": [
    "def clean_numeric_column(column):\n",
    "    column = column.astype(str)\n",
    "    column = column.str.replace('$', '').str.replace(',', '')\n",
    "    column = pd.to_numeric(column, errors='coerce')\n",
    "    column = column.dropna()\n",
    "    return column\n",
    "\n",
    "\n",
    "df_copia['monto_del_credito'] = clean_numeric_column(df_copia['monto_del_credito'])\n",
    "valores_unicomon = clean_numeric_column(df_copia['monto_del_credito']).unique()\n",
    "valores_unicomon\n",
    "len(valores_unicomon)"
   ]
  },
  {
   "cell_type": "code",
   "execution_count": 546,
   "id": "b69ec094",
   "metadata": {},
   "outputs": [
    {
     "name": "stdout",
     "output_type": "stream",
     "text": [
      "['microempresarial' 'juridicaycap.semilla' 'fomentoagropecuario'\n",
      " 'agropecuaria' 'empresarialed.' 'solidaria' 'credioportuno' 'solidiaria'\n",
      " 'ayacuchoformal']\n"
     ]
    },
    {
     "data": {
      "text/plain": [
       "9"
      ]
     },
     "execution_count": 546,
     "metadata": {},
     "output_type": "execute_result"
    }
   ],
   "source": [
    "df_copia['línea_credito'] = df_copia['línea_credito'].str.lower()\n",
    "df_copia['línea_credito'] = df_copia['línea_credito'].str.rstrip()\n",
    "df_copia['línea_credito'] = df_copia['línea_credito'].str.replace('-', '') \n",
    "df_copia['línea_credito'] = df_copia['línea_credito'].str.replace('_', ' ')\n",
    "df_copia['línea_credito'] = df_copia['línea_credito'].str.replace(' ', '') \n",
    "valores_unicolc = df_copia['línea_credito'].unique()\n",
    "print(valores_unicolc)\n",
    "len(valores_unicolc)"
   ]
  },
  {
   "cell_type": "code",
   "execution_count": 547,
   "id": "5043d706",
   "metadata": {},
   "outputs": [],
   "source": [
    "df_copia1 = df_copia.drop(columns=['Unnamed: 0'])\n",
    "df_copia1 = df_copia1.dropna(how='all')\n",
    "df_copia1 = df_copia1.drop_duplicates()"
   ]
  },
  {
   "cell_type": "code",
   "execution_count": 548,
   "id": "fda1bbd6",
   "metadata": {},
   "outputs": [
    {
     "data": {
      "text/plain": [
       "(10206, 9)"
      ]
     },
     "execution_count": 548,
     "metadata": {},
     "output_type": "execute_result"
    }
   ],
   "source": [
    "df_copia1.shape"
   ]
  },
  {
   "cell_type": "code",
   "execution_count": 549,
   "id": "c65aac4b",
   "metadata": {},
   "outputs": [
    {
     "data": {
      "text/html": [
       "<div>\n",
       "<style scoped>\n",
       "    .dataframe tbody tr th:only-of-type {\n",
       "        vertical-align: middle;\n",
       "    }\n",
       "\n",
       "    .dataframe tbody tr th {\n",
       "        vertical-align: top;\n",
       "    }\n",
       "\n",
       "    .dataframe thead th {\n",
       "        text-align: right;\n",
       "    }\n",
       "</style>\n",
       "<table border=\"1\" class=\"dataframe\">\n",
       "  <thead>\n",
       "    <tr style=\"text-align: right;\">\n",
       "      <th></th>\n",
       "      <th>sexo</th>\n",
       "      <th>tipo_de_emprendimiento</th>\n",
       "      <th>idea_negocio</th>\n",
       "      <th>barrio</th>\n",
       "      <th>estrato</th>\n",
       "      <th>comuna_ciudadano</th>\n",
       "      <th>fecha_de_beneficio</th>\n",
       "      <th>monto_del_credito</th>\n",
       "      <th>línea_credito</th>\n",
       "    </tr>\n",
       "  </thead>\n",
       "  <tbody>\n",
       "    <tr>\n",
       "      <th>0</th>\n",
       "      <td>masculino</td>\n",
       "      <td>comercio</td>\n",
       "      <td>charcuteria</td>\n",
       "      <td>manrique central no. 2</td>\n",
       "      <td>1</td>\n",
       "      <td>3</td>\n",
       "      <td>2017-12-28</td>\n",
       "      <td>7000000.0</td>\n",
       "      <td>microempresarial</td>\n",
       "    </tr>\n",
       "    <tr>\n",
       "      <th>1</th>\n",
       "      <td>masculino</td>\n",
       "      <td>comercio</td>\n",
       "      <td>distribuidorade</td>\n",
       "      <td>santa lucia</td>\n",
       "      <td>2</td>\n",
       "      <td>12</td>\n",
       "      <td>2018-03-16</td>\n",
       "      <td>7000000.0</td>\n",
       "      <td>microempresarial</td>\n",
       "    </tr>\n",
       "    <tr>\n",
       "      <th>2</th>\n",
       "      <td>masculino</td>\n",
       "      <td>comercio</td>\n",
       "      <td>tienda</td>\n",
       "      <td>belen</td>\n",
       "      <td>3</td>\n",
       "      <td>16</td>\n",
       "      <td>2018-02-14</td>\n",
       "      <td>7800000.0</td>\n",
       "      <td>microempresarial</td>\n",
       "    </tr>\n",
       "    <tr>\n",
       "      <th>3</th>\n",
       "      <td>masculino</td>\n",
       "      <td>servicio</td>\n",
       "      <td>organizacióny</td>\n",
       "      <td>robledo</td>\n",
       "      <td>2</td>\n",
       "      <td>7</td>\n",
       "      <td>2016-09-08</td>\n",
       "      <td>1500000.0</td>\n",
       "      <td>microempresarial</td>\n",
       "    </tr>\n",
       "    <tr>\n",
       "      <th>4</th>\n",
       "      <td>masculino</td>\n",
       "      <td>servicio</td>\n",
       "      <td>comidasrapidas</td>\n",
       "      <td>20 de julio</td>\n",
       "      <td>2</td>\n",
       "      <td>13</td>\n",
       "      <td>2016-12-20</td>\n",
       "      <td>3000000.0</td>\n",
       "      <td>microempresarial</td>\n",
       "    </tr>\n",
       "  </tbody>\n",
       "</table>\n",
       "</div>"
      ],
      "text/plain": [
       "        sexo tipo_de_emprendimiento     idea_negocio                  barrio  \\\n",
       "0  masculino               comercio      charcuteria  manrique central no. 2   \n",
       "1  masculino               comercio  distribuidorade             santa lucia   \n",
       "2  masculino               comercio           tienda                   belen   \n",
       "3  masculino               servicio    organizacióny                 robledo   \n",
       "4  masculino               servicio   comidasrapidas             20 de julio   \n",
       "\n",
       "   estrato  comuna_ciudadano fecha_de_beneficio  monto_del_credito  \\\n",
       "0        1                 3         2017-12-28          7000000.0   \n",
       "1        2                12         2018-03-16          7000000.0   \n",
       "2        3                16         2018-02-14          7800000.0   \n",
       "3        2                 7         2016-09-08          1500000.0   \n",
       "4        2                13         2016-12-20          3000000.0   \n",
       "\n",
       "      línea_credito  \n",
       "0  microempresarial  \n",
       "1  microempresarial  \n",
       "2  microempresarial  \n",
       "3  microempresarial  \n",
       "4  microempresarial  "
      ]
     },
     "execution_count": 549,
     "metadata": {},
     "output_type": "execute_result"
    }
   ],
   "source": [
    "df_copia1.head()"
   ]
  },
  {
   "cell_type": "code",
   "execution_count": 551,
   "id": "059076c4",
   "metadata": {},
   "outputs": [
    {
     "name": "stdout",
     "output_type": "stream",
     "text": [
      "microempresarial        10020\n",
      "empresarialed.             70\n",
      "agropecuaria               55\n",
      "juridicaycap.semilla       33\n",
      "credioportuno              21\n",
      "fomentoagropecuario         4\n",
      "solidaria                   1\n",
      "solidiaria                  1\n",
      "ayacuchoformal              1\n",
      "Name: línea_credito, dtype: int64\n"
     ]
    }
   ],
   "source": [
    "barrio_counts = df_copia1[\"línea_credito\"].value_counts()\n",
    "\n",
    "print(barrio_counts)"
   ]
  },
  {
   "cell_type": "code",
   "execution_count": null,
   "id": "0212f080",
   "metadata": {},
   "outputs": [],
   "source": []
  },
  {
   "cell_type": "code",
   "execution_count": null,
   "id": "54ff9541",
   "metadata": {},
   "outputs": [],
   "source": []
  }
 ],
 "metadata": {
  "kernelspec": {
   "display_name": "Python 3 (ipykernel)",
   "language": "python",
   "name": "python3"
  },
  "language_info": {
   "codemirror_mode": {
    "name": "ipython",
    "version": 3
   },
   "file_extension": ".py",
   "mimetype": "text/x-python",
   "name": "python",
   "nbconvert_exporter": "python",
   "pygments_lexer": "ipython3",
   "version": "3.9.12"
  }
 },
 "nbformat": 4,
 "nbformat_minor": 5
}
